{
 "cells": [
  {
   "cell_type": "markdown",
   "metadata": {},
   "source": [
    "# Importation des librairies"
   ]
  },
  {
   "cell_type": "code",
   "execution_count": 1,
   "metadata": {},
   "outputs": [],
   "source": [
    "import torch\n",
    "import torch.nn as nn\n",
    "import torch.optim as optim\n",
    "from torch.utils.data import DataLoader, TensorDataset\n",
    "import torchvision.transforms as transforms\n",
    "from sklearn.model_selection import train_test_split\n",
    "from PIL import Image\n",
    "import numpy as np\n",
    "from pathlib import Path"
   ]
  },
  {
   "cell_type": "markdown",
   "metadata": {},
   "source": [
    "# Paramètres"
   ]
  },
  {
   "cell_type": "code",
   "execution_count": 2,
   "metadata": {},
   "outputs": [],
   "source": [
    "IMAGES_DIR_NAME = \"images\"\n",
    "MASKS_DIR_NAME = \"masks\"\n",
    "\n",
    "IMAGE_HEIGHT = 256\n",
    "IMAGE_WIDTH = 256\n",
    "NUM_CHANNELS = 3\n",
    "\n",
    "TEST_SET_PROPORTION = 0.1"
   ]
  },
  {
   "cell_type": "markdown",
   "metadata": {},
   "source": [
    "# Préparation des données\n",
    "## Importation et prétraitement"
   ]
  },
  {
   "cell_type": "code",
   "execution_count": 5,
   "metadata": {},
   "outputs": [],
   "source": [
    "IMAGES_DIR_NAME = \"images\"\n",
    "MASKS_DIR_NAME = \"masks\"\n",
    "\n",
    "images = []\n",
    "masks = []\n",
    "\n",
    "# Chemins des fichiers images et masques\n",
    "image_paths = list(Path(IMAGES_DIR_NAME).iterdir())\n",
    "mask_paths = list(Path(MASKS_DIR_NAME).iterdir())\n",
    "\n",
    "# Trier les chemins pour avoir le même indice\n",
    "image_paths.sort()\n",
    "mask_paths.sort()\n",
    "\n",
    "# Parcourir et ouvrir les images et les masques\n",
    "for image_path, mask_path in zip(image_paths, mask_paths):\n",
    "    if image_path.name.endswith(\".png\") and mask_path.name.endswith(\".png\"):\n",
    "        image = np.array(\n",
    "            Image.open(image_path).convert(\"RGB\").resize((IMAGE_HEIGHT, IMAGE_WIDTH))\n",
    "        )\n",
    "        image = image / 255\n",
    "        mask = np.array(\n",
    "            Image.open(mask_path).convert(\"L\").resize((IMAGE_HEIGHT, IMAGE_WIDTH))\n",
    "        )\n",
    "        mask = mask / 255\n",
    "        images.append(image)\n",
    "        masks.append(mask)\n",
    "\n",
    "images = np.array(images)\n",
    "masks = np.array(masks)"
   ]
  },
  {
   "cell_type": "markdown",
   "metadata": {},
   "source": [
    "## Classer données en groupe d'entrainement et de test"
   ]
  },
  {
   "cell_type": "code",
   "execution_count": 6,
   "metadata": {},
   "outputs": [
    {
     "name": "stdout",
     "output_type": "stream",
     "text": [
      "669 75 669 75\n"
     ]
    }
   ],
   "source": [
    "images_train, images_test, masks_train, masks_test = train_test_split(images, masks, test_size = TEST_SET_PROPORTION, random_state=42)\n",
    "\n",
    "images_train = torch.tensor(images_train).float()\n",
    "images_test = torch.tensor(images_test).float()\n",
    "masks_train = torch.tensor(masks_train).float()\n",
    "masks_test = torch.tensor(masks_test).float()"
   ]
  }
 ],
 "metadata": {
  "kernelspec": {
   "display_name": "Python 3",
   "language": "python",
   "name": "python3"
  },
  "language_info": {
   "codemirror_mode": {
    "name": "ipython",
    "version": 3
   },
   "file_extension": ".py",
   "mimetype": "text/x-python",
   "name": "python",
   "nbconvert_exporter": "python",
   "pygments_lexer": "ipython3",
   "version": "3.11.7"
  }
 },
 "nbformat": 4,
 "nbformat_minor": 2
}
